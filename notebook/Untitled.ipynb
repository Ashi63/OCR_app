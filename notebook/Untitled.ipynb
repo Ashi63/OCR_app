{
 "cells": [
  {
   "cell_type": "code",
   "execution_count": 1,
   "id": "7b36db48-5410-4b93-904e-28ec55dd17b8",
   "metadata": {},
   "outputs": [
    {
     "name": "stdout",
     "output_type": "stream",
     "text": [
      "[2023/09/12 21:58:15] ppocr DEBUG: Namespace(help='==SUPPRESS==', use_gpu=False, use_xpu=False, ir_optim=True, use_tensorrt=False, min_subgraph_size=15, shape_info_filename=None, precision='fp32', gpu_mem=500, image_dir=None, det_algorithm='DB', det_model_dir='C:\\\\Users\\\\Alkashi/.paddleocr/whl\\\\det\\\\en\\\\en_PP-OCRv3_det_infer', det_limit_side_len=960, det_limit_type='max', det_db_thresh=0.3, det_db_box_thresh=0.6, det_db_unclip_ratio=1.5, max_batch_size=10, use_dilation=False, det_db_score_mode='fast', det_east_score_thresh=0.8, det_east_cover_thresh=0.1, det_east_nms_thresh=0.2, det_sast_score_thresh=0.5, det_sast_nms_thresh=0.2, det_sast_polygon=False, det_pse_thresh=0, det_pse_box_thresh=0.85, det_pse_min_area=16, det_pse_box_type='quad', det_pse_scale=1, scales=[8, 16, 32], alpha=1.0, beta=1.0, fourier_degree=5, det_fce_box_type='poly', rec_algorithm='SVTR_LCNet', rec_model_dir='C:\\\\Users\\\\Alkashi/.paddleocr/whl\\\\rec\\\\en\\\\en_PP-OCRv3_rec_infer', rec_image_shape='3, 48, 320', rec_batch_num=6, max_text_length=25, rec_char_dict_path='C:\\\\Users\\\\Alkashi\\\\Desktop\\\\ML_Project\\\\Computer_Vision\\\\OCR_paddlepaddle\\\\ocr_paddle_venv\\\\Lib\\\\site-packages\\\\paddleocr\\\\ppocr\\\\utils\\\\en_dict.txt', use_space_char=True, vis_font_path='./doc/fonts/simfang.ttf', drop_score=0.5, e2e_algorithm='PGNet', e2e_model_dir=None, e2e_limit_side_len=768, e2e_limit_type='max', e2e_pgnet_score_thresh=0.5, e2e_char_dict_path='./ppocr/utils/ic15_dict.txt', e2e_pgnet_valid_set='totaltext', e2e_pgnet_mode='fast', use_angle_cls=False, cls_model_dir='C:\\\\Users\\\\Alkashi/.paddleocr/whl\\\\cls\\\\ch_ppocr_mobile_v2.0_cls_infer', cls_image_shape='3, 48, 192', label_list=['0', '180'], cls_batch_num=6, cls_thresh=0.9, enable_mkldnn=False, cpu_threads=10, use_pdserving=False, warmup=False, sr_model_dir=None, sr_image_shape='3, 32, 128', sr_batch_num=1, draw_img_save_dir='./inference_results', save_crop_res=False, crop_res_save_dir='./output', use_mp=False, total_process_num=1, process_id=0, benchmark=False, save_log_path='./log_output/', show_log=True, use_onnx=False, output='./output', table_max_len=488, table_algorithm='TableAttn', table_model_dir=None, merge_no_span_structure=True, table_char_dict_path=None, layout_model_dir=None, layout_dict_path=None, layout_score_threshold=0.5, layout_nms_threshold=0.5, kie_algorithm='LayoutXLM', ser_model_dir=None, ser_dict_path='../train_data/XFUND/class_list_xfun.txt', ocr_order_method=None, mode='structure', image_orientation=False, layout=True, table=True, ocr=True, recovery=False, save_pdf=False, lang='en', det=True, rec=True, type='ocr', ocr_version='PP-OCRv3', structure_version='PP-Structurev2')\n",
      "[2023/09/12 21:58:16] ppocr WARNING: Since the angle classifier is not initialized, the angle classifier will not be uesd during the forward process\n",
      "[2023/09/12 21:58:17] ppocr DEBUG: dt_boxes num : 67, elapse : 0.586620569229126\n",
      "[2023/09/12 21:58:27] ppocr DEBUG: rec_res num  : 67, elapse : 10.397912740707397\n",
      "Output:\n",
      " [[[[47.0, 26.0], [193.0, 26.0], [193.0, 39.0], [47.0, 39.0]], ('Invoice no:12060439', 0.9614021182060242)], [[[47.0, 51.0], [124.0, 51.0], [124.0, 64.0], [47.0, 64.0]], ('Date of issue:', 0.9995327591896057)], [[[289.0, 52.0], [353.0, 52.0], [353.0, 63.0], [289.0, 63.0]], ('08/29/2020', 0.9997185468673706)], [[[46.0, 159.0], [94.0, 159.0], [94.0, 173.0], [46.0, 173.0]], ('Seller:', 0.9648222923278809)], [[[297.0, 159.0], [343.0, 159.0], [343.0, 173.0], [297.0, 173.0]], ('Client:', 0.9784997701644897)], [[[50.0, 181.0], [127.0, 181.0], [127.0, 194.0], [50.0, 194.0]], ('Brown-Johnson', 0.9922780394554138)], [[[298.0, 179.0], [381.0, 180.0], [381.0, 194.0], [298.0, 193.0]], ('Calderon-Duran', 0.9988073110580444)], [[[50.0, 194.0], [203.0, 194.0], [203.0, 207.0], [50.0, 207.0]], ('310 Amanda Corner Suite 472', 0.9920482039451599)], [[[299.0, 194.0], [407.0, 194.0], [407.0, 207.0], [299.0, 207.0]], ('9884 Roberts Tunnel', 0.9989060759544373)], [[[49.0, 207.0], [177.0, 207.0], [177.0, 221.0], [49.0, 221.0]], ('North William, MN 33119', 0.9896367192268372)], [[[299.0, 207.0], [435.0, 207.0], [435.0, 221.0], [299.0, 221.0]], ('North Lindaside, VA 02674', 0.9873812794685364)], [[[50.0, 233.0], [154.0, 233.0], [154.0, 246.0], [50.0, 246.0]], ('Tax Id: 981-94-7235', 0.9511082172393799)], [[[299.0, 233.0], [403.0, 233.0], [403.0, 246.0], [299.0, 246.0]], ('Tax Id: 996-81-8911', 0.9984443187713623)], [[[50.0, 247.0], [220.0, 247.0], [220.0, 257.0], [50.0, 257.0]], ('IBAN:GB78IXYE58273701690538', 0.9888523817062378)], [[[45.0, 272.0], [90.0, 272.0], [90.0, 286.0], [45.0, 286.0]], ('ITEMS', 0.9967440366744995)], [[[56.0, 304.0], [73.0, 304.0], [73.0, 315.0], [56.0, 315.0]], ('No.', 0.999774694442749)], [[[86.0, 304.0], [139.0, 304.0], [139.0, 315.0], [86.0, 315.0]], ('Description', 0.9998182058334351)], [[[243.0, 304.0], [263.0, 304.0], [263.0, 316.0], [243.0, 316.0]], ('Qty', 0.9956094622612)], [[[278.0, 303.0], [298.0, 303.0], [298.0, 315.0], [278.0, 315.0]], ('UM', 0.9926652908325195)], [[[323.0, 304.0], [367.0, 304.0], [367.0, 315.0], [323.0, 315.0]], ('Net price', 0.9905163645744324)], [[[380.0, 304.0], [428.0, 304.0], [428.0, 315.0], [380.0, 315.0]], ('Net worth', 0.9999364018440247)], [[[442.0, 304.0], [480.0, 304.0], [480.0, 315.0], [442.0, 315.0]], ('VAT [%]', 0.9041293263435364)], [[[513.0, 304.0], [542.0, 304.0], [542.0, 315.0], [513.0, 315.0]], ('Gross', 0.9999338984489441)], [[[513.0, 315.0], [543.0, 315.0], [543.0, 325.0], [513.0, 325.0]], ('worth', 0.999535083770752)], [[[84.0, 334.0], [215.0, 334.0], [215.0, 344.0], [84.0, 344.0]], ('Rectangle Area Rug Wood Grain', 0.9920966625213623)], [[[241.0, 334.0], [263.0, 334.0], [263.0, 346.0], [241.0, 346.0]], ('4,00', 0.9997142553329468)], [[[275.0, 334.0], [300.0, 334.0], [300.0, 346.0], [275.0, 346.0]], ('each', 0.9997028112411499)], [[[341.0, 334.0], [367.0, 334.0], [367.0, 346.0], [341.0, 346.0]], ('32,81', 0.9999085664749146)], [[[397.0, 332.0], [428.0, 334.0], [427.0, 347.0], [396.0, 345.0]], ('131,24', 0.9998249411582947)], [[[460.0, 334.0], [480.0, 334.0], [480.0, 346.0], [460.0, 346.0]], ('10%', 0.9990131258964539)], [[[509.0, 332.0], [543.0, 334.0], [542.0, 348.0], [508.0, 346.0]], ('144,36', 0.9998011589050293)], [[[84.0, 352.0], [174.0, 354.0], [173.0, 367.0], [84.0, 365.0]], ('Bedroom - 180x60cm', 0.9954931735992432)], [[[85.0, 343.0], [198.0, 344.0], [198.0, 357.0], [85.0, 356.0]], ('Carpet Mat for Living Room', 0.9854471683502197)], [[[62.0, 378.0], [69.0, 378.0], [69.0, 386.0], [62.0, 386.0]], ('2.', 0.9997490644454956)], [[[84.0, 374.0], [212.0, 374.0], [212.0, 388.0], [84.0, 388.0]], ('Rug for living room-Minion And', 0.9647528529167175)], [[[241.0, 374.0], [263.0, 374.0], [263.0, 387.0], [241.0, 387.0]], ('2,00', 0.9995992183685303)], [[[275.0, 375.0], [299.0, 375.0], [299.0, 388.0], [275.0, 388.0]], ('each', 0.99966961145401)], [[[340.0, 371.0], [368.0, 374.0], [367.0, 389.0], [339.0, 386.0]], ('29,96', 0.9988232851028442)], [[[401.0, 371.0], [429.0, 374.0], [427.0, 389.0], [400.0, 386.0]], ('59,92', 0.9989408254623413)], [[[460.0, 373.0], [481.0, 376.0], [479.0, 389.0], [458.0, 386.0]], ('10%', 0.9301261901855469)], [[[515.0, 372.0], [543.0, 375.0], [541.0, 390.0], [513.0, 387.0]], ('65,91', 0.9993106126785278)], [[[84.0, 384.0], [213.0, 385.0], [213.0, 398.0], [84.0, 397.0]], ('Banana Area Rugs Living Room', 0.9857481122016907)], [[[84.0, 395.0], [167.0, 397.0], [166.0, 408.0], [84.0, 406.0]], ('Carpet, Christmas...', 0.9694777727127075)], [[[85.0, 418.0], [215.0, 418.0], [215.0, 428.0], [85.0, 428.0]], (\"Yilong 5'x7.5' Hand Knotted Silk\", 0.9646936655044556)], [[[241.0, 417.0], [263.0, 417.0], [263.0, 428.0], [241.0, 428.0]], ('3,00', 0.9996768832206726)], [[[275.0, 418.0], [299.0, 418.0], [299.0, 429.0], [275.0, 429.0]], ('each', 0.9996902942657471)], [[[328.0, 417.0], [367.0, 417.0], [367.0, 428.0], [328.0, 428.0]], ('2 800,00', 0.9998117089271545)], [[[389.0, 417.0], [428.0, 417.0], [428.0, 428.0], [389.0, 428.0]], ('8 400,00', 0.9998651742935181)], [[[460.0, 415.0], [481.0, 417.0], [479.0, 429.0], [458.0, 427.0]], ('10%', 0.9948638081550598)], [[[503.0, 417.0], [542.0, 417.0], [542.0, 428.0], [503.0, 428.0]], ('9 240,00', 0.9627882242202759)], [[[84.0, 427.0], [209.0, 427.0], [209.0, 440.0], [84.0, 440.0]], ('Area Rug Medium Size Classic', 0.9994959831237793)], [[[85.0, 438.0], [164.0, 438.0], [164.0, 448.0], [85.0, 448.0]], ('Floor Carpets 0186', 0.999139130115509)], [[[47.0, 473.0], [118.0, 473.0], [118.0, 484.0], [47.0, 484.0]], ('SUMMARY', 0.997291088104248)], [[[230.0, 502.0], [269.0, 502.0], [269.0, 513.0], [230.0, 513.0]], ('VAT [%]', 0.9348783493041992)], [[[333.0, 502.0], [381.0, 502.0], [381.0, 513.0], [333.0, 513.0]], (' Net worth', 0.951747715473175)], [[[426.0, 501.0], [449.0, 501.0], [449.0, 513.0], [426.0, 513.0]], ('VAT', 0.9999039769172668)], [[[486.0, 502.0], [543.0, 502.0], [543.0, 513.0], [486.0, 513.0]], ('Gross worth', 0.9436098337173462)], [[[238.0, 522.0], [260.0, 522.0], [260.0, 534.0], [238.0, 534.0]], ('10%', 0.9989884495735168)], [[[343.0, 522.0], [381.0, 522.0], [381.0, 533.0], [343.0, 533.0]], ('8 591,16', 0.9861876368522644)], [[[417.0, 522.0], [447.0, 522.0], [447.0, 533.0], [417.0, 533.0]], ('859,12', 0.9998784065246582)], [[[505.0, 522.0], [543.0, 522.0], [543.0, 533.0], [505.0, 533.0]], ('9 450,28', 0.9991161823272705)], [[[179.0, 543.0], [207.0, 543.0], [207.0, 557.0], [179.0, 557.0]], ('Total', 0.9987414479255676)], [[[330.0, 542.0], [379.0, 542.0], [379.0, 554.0], [330.0, 554.0]], ('$ 8 591,16', 0.9369024038314819)], [[[407.0, 543.0], [447.0, 543.0], [447.0, 555.0], [407.0, 555.0]], ('$ 859,12', 0.9997163414955139)], [[[493.0, 543.0], [543.0, 543.0], [543.0, 555.0], [493.0, 555.0]], ('$ 9 450,28', 0.9977203607559204)]]\n"
     ]
    }
   ],
   "source": [
    "from paddleocr import PaddleOCR, draw_ocr\n",
    "import cv2\n",
    "\n",
    "ocr = PaddleOCR(lang='en')\n",
    "image_path = r'C:\\Users\\Alkashi\\Desktop\\ML_Project\\Computer_Vision\\OCR_paddlepaddle\\image\\input_image\\sample1.png'\n",
    "image_cv = cv2.imread(image_path)\n",
    "output = ocr.ocr(image_path)\n",
    "print(\"Output:\\n\",output)"
   ]
  },
  {
   "cell_type": "code",
   "execution_count": 2,
   "id": "e5e369ad-6b39-4f96-ac24-611cfa47be0a",
   "metadata": {},
   "outputs": [
    {
     "data": {
      "text/plain": [
       "[[[47.0, 26.0], [193.0, 26.0], [193.0, 39.0], [47.0, 39.0]],\n",
       " ('Invoice no:12060439', 0.9614021182060242)]"
      ]
     },
     "execution_count": 2,
     "metadata": {},
     "output_type": "execute_result"
    }
   ],
   "source": [
    "output[0]"
   ]
  },
  {
   "cell_type": "code",
   "execution_count": 16,
   "id": "00b0791d-5092-4293-a924-eb0868df0d82",
   "metadata": {},
   "outputs": [],
   "source": [
    "# The list you provided\n",
    "item = [[[47.0, 26.0], [193.0, 26.0], [193.0, 39.0], [47.0, 39.0]], ('Invoice no:12060439', 0.9614021182060242)]"
   ]
  },
  {
   "cell_type": "code",
   "execution_count": 19,
   "id": "92e1dbe1-36c8-4d9c-b9d9-e07403cbde04",
   "metadata": {},
   "outputs": [
    {
     "name": "stdout",
     "output_type": "stream",
     "text": [
      "['Invoice no:12060439', 'Date of issue:', '08/29/2020', 'Seller:', 'Client:', 'Brown-Johnson', 'Calderon-Duran', '310 Amanda Corner Suite 472', '9884 Roberts Tunnel', 'North William, MN 33119', 'North Lindaside, VA 02674', 'Tax Id: 981-94-7235', 'Tax Id: 996-81-8911', 'IBAN:GB78IXYE58273701690538', 'ITEMS', 'No.', 'Description', 'Qty', 'UM', 'Net price', 'Net worth', 'VAT [%]', 'Gross', 'worth', 'Rectangle Area Rug Wood Grain', '4,00', 'each', '32,81', '131,24', '10%', '144,36', 'Bedroom - 180x60cm', 'Carpet Mat for Living Room', '2.', 'Rug for living room-Minion And', '2,00', 'each', '29,96', '59,92', '10%', '65,91', 'Banana Area Rugs Living Room', 'Carpet, Christmas...', \"Yilong 5'x7.5' Hand Knotted Silk\", '3,00', 'each', '2 800,00', '8 400,00', '10%', '9 240,00', 'Area Rug Medium Size Classic', 'Floor Carpets 0186', 'SUMMARY', 'VAT [%]', ' Net worth', 'VAT', 'Gross worth', '10%', '8 591,16', '859,12', '9 450,28', 'Total', '$ 8 591,16', '$ 859,12', '$ 9 450,28']\n"
     ]
    }
   ],
   "source": [
    "boxes = [box[0] for box in output]\n",
    "texts = [text[1][0] for text in output]\n",
    "probalit"
   ]
  },
  {
   "cell_type": "code",
   "execution_count": 15,
   "id": "30a78181-269b-4d4e-b42b-803caa9ba708",
   "metadata": {},
   "outputs": [
    {
     "name": "stdout",
     "output_type": "stream",
     "text": [
      "[47.0, 26.0]\n",
      "[193.0, 26.0]\n",
      "[193.0, 39.0]\n",
      "[47.0, 39.0]\n"
     ]
    }
   ],
   "source": [
    "\n",
    "# Extract bounding box coordinates\n",
    "bounding_box = item[0]\n",
    "#print(\"Bounding Box:\", bounding_box)\n",
    "\n",
    "st_point\n",
    "for i in item[0]:\n",
    "    print(i)\n",
    "\n",
    "# Extract text\n",
    "text = item[1][0]\n",
    "#print(\"Text:\", text)\n",
    "\n",
    "# Extract confidence score\n",
    "confidence_score = item[1][1]\n",
    "#print(\"Confidence Score:\", confidence_score)"
   ]
  },
  {
   "cell_type": "code",
   "execution_count": 13,
   "id": "b366cf5f-1194-4ceb-bb45-7e33b2c10a8e",
   "metadata": {},
   "outputs": [
    {
     "name": "stdout",
     "output_type": "stream",
     "text": [
      "Bounding Boxes: [[[47.0, 26.0], [193.0, 26.0], [193.0, 39.0], [47.0, 39.0]]]\n",
      "Texts: ['Invoice no:12060439']\n",
      "Confidence Scores: [0.9614021182060242]\n"
     ]
    }
   ],
   "source": [
    "# List of items, where each item is a combination of bounding box, text, and confidence score\n",
    "items = [\n",
    "    [[[47.0, 26.0], [193.0, 26.0], [193.0, 39.0], [47.0, 39.0]], ('Invoice no:12060439', 0.9614021182060242)],\n",
    "    # Add more items as needed\n",
    "]\n",
    "\n",
    "# Initialize empty lists to store bounding boxes, text, and confidence scores\n",
    "bounding_boxes = []\n",
    "texts = []\n",
    "confidence_scores = []\n",
    "\n",
    "# Iterate through the list of items\n",
    "for item in items:\n",
    "    # Extract bounding box\n",
    "    bounding_box = item[0]\n",
    "    bounding_boxes.append(bounding_box)\n",
    "\n",
    "    # Extract text\n",
    "    text = item[1][0]\n",
    "    texts.append(text)\n",
    "\n",
    "    # Extract confidence score\n",
    "    confidence_score = item[1][1]\n",
    "    confidence_scores.append(confidence_score)\n",
    "\n",
    "# Print or use the separate lists as needed\n",
    "print(\"Bounding Boxes:\", bounding_boxes)\n",
    "print(\"Texts:\", texts)\n",
    "print(\"Confidence Scores:\", confidence_scores)\n"
   ]
  },
  {
   "cell_type": "code",
   "execution_count": null,
   "id": "fa1e42cb-c85e-4d80-a2df-d7bc4566eb0e",
   "metadata": {},
   "outputs": [],
   "source": [
    "\n",
    "# Initialize lists to store bounding boxes, text, and probabilities\n",
    "boxes = []\n",
    "text = []\n",
    "probabilities = []\n",
    "\n",
    "# Iterate through the results\n",
    "for result in output[0]:\n",
    "    # Extract the bounding box coordinates\n",
    "    box = result[0]\n",
    "    x1, y1, x2, y2, x3, y3, x4, y4 = box\n",
    "    normalized_box = [\n",
    "        (x1 / image_width, y1 / image_height),\n",
    "        (x2 / image_width, y2 / image_height),\n",
    "        (x3 / image_width, y3 / image_height),\n",
    "        (x4 / image_width, y4 / image_height)\n",
    "    ]\n",
    "    \n",
    "    # Extract the recognized text and confidence score\n",
    "    recognized_text = result[1][0]\n",
    "    confidence = result[1][1]\n",
    "\n",
    "    # Append the data to respective lists\n",
    "    boxes.append(normalized_box)\n",
    "    text.append(recognized_text)\n",
    "    probabilities.append(confidence)\n",
    "\n",
    "# Print or use the extracted data as needed\n",
    "print(\"Bounding Boxes:\", boxes)\n",
    "print(\"Text:\", text)\n",
    "print(\"Confidence Scores:\", probabilities)\n"
   ]
  },
  {
   "cell_type": "code",
   "execution_count": null,
   "id": "2cda6bc7-aa3b-4855-8012-1d0c30b16849",
   "metadata": {},
   "outputs": [],
   "source": []
  }
 ],
 "metadata": {
  "kernelspec": {
   "display_name": "Python 3 (ipykernel)",
   "language": "python",
   "name": "python3"
  },
  "language_info": {
   "codemirror_mode": {
    "name": "ipython",
    "version": 3
   },
   "file_extension": ".py",
   "mimetype": "text/x-python",
   "name": "python",
   "nbconvert_exporter": "python",
   "pygments_lexer": "ipython3",
   "version": "3.11.5"
  }
 },
 "nbformat": 4,
 "nbformat_minor": 5
}
